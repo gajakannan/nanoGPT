{
 "cells": [
  {
   "cell_type": "code",
   "execution_count": 1,
   "id": "34e66626",
   "metadata": {
    "_cell_guid": "b1076dfc-b9ad-4769-8c92-a6c4dae69d19",
    "_uuid": "8f2839f25d086af736a60e9eeb907d3b93b6e0e5",
    "execution": {
     "iopub.execute_input": "2023-05-20T00:49:31.158622Z",
     "iopub.status.busy": "2023-05-20T00:49:31.158249Z",
     "iopub.status.idle": "2023-05-20T00:49:31.164707Z",
     "shell.execute_reply": "2023-05-20T00:49:31.163208Z"
    },
    "papermill": {
     "duration": 0.016785,
     "end_time": "2023-05-20T00:49:31.168876",
     "exception": false,
     "start_time": "2023-05-20T00:49:31.152091",
     "status": "completed"
    },
    "tags": []
   },
   "outputs": [],
   "source": [
    "# This Python 3 environment comes with many helpful analytics libraries installed\n",
    "# It is defined by the kaggle/python Docker image: https://github.com/kaggle/docker-python\n",
    "# For example, here's several helpful packages to load\n",
    "\n",
    "#import numpy as np # linear algebra\n",
    "#import pandas as pd # data processing, CSV file I/O (e.g. pd.read_csv)\n",
    "\n",
    "# Input data files are available in the read-only \"../input/\" directory\n",
    "# For example, running this (by clicking run or pressing Shift+Enter) will list all files under the input directory\n",
    "\n",
    "# import os\n",
    "# for dirname, _, filenames in os.walk('/kaggle/input'):\n",
    "#    for filename in filenames:\n",
    "#        print(os.path.join(dirname, filename))\n",
    "\n",
    "# You can write up to 20GB to the current directory (/kaggle/working/) that gets preserved as output when you create a version using \"Save & Run All\" \n",
    "# You can also write temporary files to /kaggle/temp/, but they won't be saved outside of the current session"
   ]
  },
  {
   "cell_type": "code",
   "execution_count": 2,
   "id": "ceb0a432",
   "metadata": {
    "execution": {
     "iopub.execute_input": "2023-05-20T00:49:31.179639Z",
     "iopub.status.busy": "2023-05-20T00:49:31.178506Z",
     "iopub.status.idle": "2023-05-20T00:49:32.563398Z",
     "shell.execute_reply": "2023-05-20T00:49:32.561845Z"
    },
    "papermill": {
     "duration": 1.393067,
     "end_time": "2023-05-20T00:49:32.566259",
     "exception": false,
     "start_time": "2023-05-20T00:49:31.173192",
     "status": "completed"
    },
    "tags": []
   },
   "outputs": [
    {
     "name": "stdout",
     "output_type": "stream",
     "text": [
      "--2023-05-20 00:49:32--  https://raw.githubusercontent.com/karpathy/char-rnn/master/data/tinyshakespeare/input.txt\r\n",
      "Resolving raw.githubusercontent.com (raw.githubusercontent.com)... 185.199.108.133, 185.199.109.133, 185.199.110.133, ...\r\n",
      "Connecting to raw.githubusercontent.com (raw.githubusercontent.com)|185.199.108.133|:443... connected.\r\n",
      "HTTP request sent, awaiting response... 200 OK\r\n",
      "Length: 1115394 (1.1M) [text/plain]\r\n",
      "Saving to: ‘input.txt’\r\n",
      "\r\n",
      "input.txt           100%[===================>]   1.06M  --.-KB/s    in 0.05s   \r\n",
      "\r\n",
      "2023-05-20 00:49:32 (20.2 MB/s) - ‘input.txt’ saved [1115394/1115394]\r\n",
      "\r\n"
     ]
    }
   ],
   "source": [
    "! wget https://raw.githubusercontent.com/karpathy/char-rnn/master/data/tinyshakespeare/input.txt"
   ]
  },
  {
   "cell_type": "code",
   "execution_count": 3,
   "id": "467c0d0c",
   "metadata": {
    "execution": {
     "iopub.execute_input": "2023-05-20T00:49:32.578499Z",
     "iopub.status.busy": "2023-05-20T00:49:32.577179Z",
     "iopub.status.idle": "2023-05-20T00:49:32.606631Z",
     "shell.execute_reply": "2023-05-20T00:49:32.605339Z"
    },
    "papermill": {
     "duration": 0.038387,
     "end_time": "2023-05-20T00:49:32.609267",
     "exception": false,
     "start_time": "2023-05-20T00:49:32.570880",
     "status": "completed"
    },
    "tags": []
   },
   "outputs": [
    {
     "name": "stdout",
     "output_type": "stream",
     "text": [
      "length of dataset in characters:  1115394\n",
      "First Citizen:\n",
      "Before we proceed any further, hear me speak.\n",
      "\n",
      "All:\n",
      "Speak, speak.\n",
      "\n",
      "First Citizen:\n",
      "You\n",
      "\n",
      " !$&',-.3:;?ABCDEFGHIJKLMNOPQRSTUVWXYZabcdefghijklmnopqrstuvwxyz\n",
      "65\n"
     ]
    }
   ],
   "source": [
    "# read it in to inspect it\n",
    "with open('input.txt', 'r', encoding='utf-8') as f:\n",
    "    text = f.read()\n",
    "    \n",
    "print(\"length of dataset in characters: \", len(text))\n",
    "\n",
    "# let's look at the first 100 characters\n",
    "print(text[:100])\n",
    "\n",
    "# here are all the unique characters that occur in this text\n",
    "chars = sorted(list(set(text)))\n",
    "vocab_size = len(chars)\n",
    "print(''.join(chars))\n",
    "print(vocab_size)"
   ]
  },
  {
   "cell_type": "code",
   "execution_count": 4,
   "id": "006310ec",
   "metadata": {
    "execution": {
     "iopub.execute_input": "2023-05-20T00:49:32.620903Z",
     "iopub.status.busy": "2023-05-20T00:49:32.619768Z",
     "iopub.status.idle": "2023-05-20T00:49:32.628011Z",
     "shell.execute_reply": "2023-05-20T00:49:32.626805Z"
    },
    "papermill": {
     "duration": 0.016287,
     "end_time": "2023-05-20T00:49:32.630257",
     "exception": false,
     "start_time": "2023-05-20T00:49:32.613970",
     "status": "completed"
    },
    "tags": []
   },
   "outputs": [
    {
     "name": "stdout",
     "output_type": "stream",
     "text": [
      "[46, 43, 50, 50, 53, 1, 61, 53, 56, 50, 42]\n",
      "hello world\n"
     ]
    }
   ],
   "source": [
    "# create a mapping from characters to integers\n",
    "stoi = { ch:i for i,ch in enumerate(chars) }\n",
    "itos = { i:ch for i,ch in enumerate(chars) }\n",
    "encode = lambda s: [stoi[c] for c in s] # encoder: take a string, output a list of integers\n",
    "decode = lambda l: ''.join([itos[i] for i in l]) # decoder: take a list of integers, output a string\n",
    "\n",
    "print(encode(\"hello world\"))\n",
    "print(decode(encode(\"hello world\")))"
   ]
  },
  {
   "cell_type": "code",
   "execution_count": 5,
   "id": "3c0a3b19",
   "metadata": {
    "execution": {
     "iopub.execute_input": "2023-05-20T00:49:32.642607Z",
     "iopub.status.busy": "2023-05-20T00:49:32.641587Z",
     "iopub.status.idle": "2023-05-20T00:49:36.770940Z",
     "shell.execute_reply": "2023-05-20T00:49:36.769606Z"
    },
    "papermill": {
     "duration": 4.13812,
     "end_time": "2023-05-20T00:49:36.773497",
     "exception": false,
     "start_time": "2023-05-20T00:49:32.635377",
     "status": "completed"
    },
    "tags": []
   },
   "outputs": [
    {
     "name": "stdout",
     "output_type": "stream",
     "text": [
      "torch.Size([1115394]) torch.int64\n",
      "tensor([18, 47, 56, 57, 58,  1, 15, 47, 58, 47, 64, 43, 52, 10,  0, 14, 43, 44,\n",
      "        53, 56, 43,  1, 61, 43,  1, 54, 56, 53, 41, 43, 43, 42,  1, 39, 52, 63,\n",
      "         1, 44, 59, 56, 58, 46, 43, 56,  6,  1, 46, 43, 39, 56,  1, 51, 43,  1,\n",
      "        57, 54, 43, 39, 49,  8,  0,  0, 13, 50, 50, 10,  0, 31, 54, 43, 39, 49,\n",
      "         6,  1, 57, 54, 43, 39, 49,  8,  0,  0, 18, 47, 56, 57, 58,  1, 15, 47,\n",
      "        58, 47, 64, 43, 52, 10,  0, 37, 53, 59])\n"
     ]
    }
   ],
   "source": [
    "# let's now encode the entire text dataset and store it into a torch.Tensor\n",
    "import torch # we use PyTorch: https://pytorch.org\n",
    "data = torch.tensor(encode(text), dtype=torch.long)\n",
    "print(data.shape, data.dtype)\n",
    "print(data[:100]) # the 100 characters we looked at earier will to the GPT look like this"
   ]
  },
  {
   "cell_type": "code",
   "execution_count": 6,
   "id": "ff44f0bf",
   "metadata": {
    "execution": {
     "iopub.execute_input": "2023-05-20T00:49:36.786509Z",
     "iopub.status.busy": "2023-05-20T00:49:36.785091Z",
     "iopub.status.idle": "2023-05-20T00:49:36.810534Z",
     "shell.execute_reply": "2023-05-20T00:49:36.809298Z"
    },
    "papermill": {
     "duration": 0.034376,
     "end_time": "2023-05-20T00:49:36.813064",
     "exception": false,
     "start_time": "2023-05-20T00:49:36.778688",
     "status": "completed"
    },
    "tags": []
   },
   "outputs": [
    {
     "name": "stdout",
     "output_type": "stream",
     "text": [
      "1003854\n",
      "tensor([18, 47, 56,  ..., 43, 56, 43])\n",
      "tensor([12,  0,  0,  ..., 45,  8,  0])\n"
     ]
    }
   ],
   "source": [
    "# Let's now split up the data into train and validation sets\n",
    "n = int(0.9*len(data)) # first 90% will be train, rest val\n",
    "print (n)\n",
    "\n",
    "train_data = data[:n]\n",
    "print(train_data)\n",
    "\n",
    "val_data = data[n:]\n",
    "print(val_data)"
   ]
  },
  {
   "cell_type": "code",
   "execution_count": 7,
   "id": "5fdfe808",
   "metadata": {
    "execution": {
     "iopub.execute_input": "2023-05-20T00:49:36.825026Z",
     "iopub.status.busy": "2023-05-20T00:49:36.824260Z",
     "iopub.status.idle": "2023-05-20T00:49:36.831860Z",
     "shell.execute_reply": "2023-05-20T00:49:36.830969Z"
    },
    "papermill": {
     "duration": 0.015962,
     "end_time": "2023-05-20T00:49:36.833904",
     "exception": false,
     "start_time": "2023-05-20T00:49:36.817942",
     "status": "completed"
    },
    "tags": []
   },
   "outputs": [
    {
     "data": {
      "text/plain": [
       "tensor([18, 47, 56, 57, 58,  1, 15, 47, 58])"
      ]
     },
     "execution_count": 7,
     "metadata": {},
     "output_type": "execute_result"
    }
   ],
   "source": [
    "block_size = 8\n",
    "train_data[:block_size+1]"
   ]
  },
  {
   "cell_type": "code",
   "execution_count": 8,
   "id": "aea6d8b7",
   "metadata": {
    "execution": {
     "iopub.execute_input": "2023-05-20T00:49:36.846630Z",
     "iopub.status.busy": "2023-05-20T00:49:36.845349Z",
     "iopub.status.idle": "2023-05-20T00:49:36.857467Z",
     "shell.execute_reply": "2023-05-20T00:49:36.855897Z"
    },
    "papermill": {
     "duration": 0.020719,
     "end_time": "2023-05-20T00:49:36.859742",
     "exception": false,
     "start_time": "2023-05-20T00:49:36.839023",
     "status": "completed"
    },
    "tags": []
   },
   "outputs": [
    {
     "name": "stdout",
     "output_type": "stream",
     "text": [
      "when input is tensor([18]) the target: 47\n",
      "when input is tensor([18, 47]) the target: 56\n",
      "when input is tensor([18, 47, 56]) the target: 57\n",
      "when input is tensor([18, 47, 56, 57]) the target: 58\n",
      "when input is tensor([18, 47, 56, 57, 58]) the target: 1\n",
      "when input is tensor([18, 47, 56, 57, 58,  1]) the target: 15\n",
      "when input is tensor([18, 47, 56, 57, 58,  1, 15]) the target: 47\n",
      "when input is tensor([18, 47, 56, 57, 58,  1, 15, 47]) the target: 58\n"
     ]
    }
   ],
   "source": [
    "x = train_data[:block_size]\n",
    "y = train_data[1:block_size+1]\n",
    "for t in range(block_size):\n",
    "    context = x[:t+1]\n",
    "    target = y[t]\n",
    "    print(f\"when input is {context} the target: {target}\")"
   ]
  },
  {
   "cell_type": "code",
   "execution_count": 9,
   "id": "f4af0abd",
   "metadata": {
    "execution": {
     "iopub.execute_input": "2023-05-20T00:49:36.872428Z",
     "iopub.status.busy": "2023-05-20T00:49:36.872003Z",
     "iopub.status.idle": "2023-05-20T00:49:36.905199Z",
     "shell.execute_reply": "2023-05-20T00:49:36.903235Z"
    },
    "papermill": {
     "duration": 0.042463,
     "end_time": "2023-05-20T00:49:36.907695",
     "exception": false,
     "start_time": "2023-05-20T00:49:36.865232",
     "status": "completed"
    },
    "tags": []
   },
   "outputs": [
    {
     "name": "stdout",
     "output_type": "stream",
     "text": [
      "inputs:\n",
      "torch.Size([4, 8])\n",
      "tensor([[24, 43, 58,  5, 57,  1, 46, 43],\n",
      "        [44, 53, 56,  1, 58, 46, 39, 58],\n",
      "        [52, 58,  1, 58, 46, 39, 58,  1],\n",
      "        [25, 17, 27, 10,  0, 21,  1, 54]])\n",
      "targets:\n",
      "torch.Size([4, 8])\n",
      "tensor([[43, 58,  5, 57,  1, 46, 43, 39],\n",
      "        [53, 56,  1, 58, 46, 39, 58,  1],\n",
      "        [58,  1, 58, 46, 39, 58,  1, 46],\n",
      "        [17, 27, 10,  0, 21,  1, 54, 39]])\n",
      "----\n",
      "when input is [24] the target: 43\n",
      "when input is [24, 43] the target: 58\n",
      "when input is [24, 43, 58] the target: 5\n",
      "when input is [24, 43, 58, 5] the target: 57\n",
      "when input is [24, 43, 58, 5, 57] the target: 1\n",
      "when input is [24, 43, 58, 5, 57, 1] the target: 46\n",
      "when input is [24, 43, 58, 5, 57, 1, 46] the target: 43\n",
      "when input is [24, 43, 58, 5, 57, 1, 46, 43] the target: 39\n",
      "when input is [44] the target: 53\n",
      "when input is [44, 53] the target: 56\n",
      "when input is [44, 53, 56] the target: 1\n",
      "when input is [44, 53, 56, 1] the target: 58\n",
      "when input is [44, 53, 56, 1, 58] the target: 46\n",
      "when input is [44, 53, 56, 1, 58, 46] the target: 39\n",
      "when input is [44, 53, 56, 1, 58, 46, 39] the target: 58\n",
      "when input is [44, 53, 56, 1, 58, 46, 39, 58] the target: 1\n",
      "when input is [52] the target: 58\n",
      "when input is [52, 58] the target: 1\n",
      "when input is [52, 58, 1] the target: 58\n",
      "when input is [52, 58, 1, 58] the target: 46\n",
      "when input is [52, 58, 1, 58, 46] the target: 39\n",
      "when input is [52, 58, 1, 58, 46, 39] the target: 58\n",
      "when input is [52, 58, 1, 58, 46, 39, 58] the target: 1\n",
      "when input is [52, 58, 1, 58, 46, 39, 58, 1] the target: 46\n",
      "when input is [25] the target: 17\n",
      "when input is [25, 17] the target: 27\n",
      "when input is [25, 17, 27] the target: 10\n",
      "when input is [25, 17, 27, 10] the target: 0\n",
      "when input is [25, 17, 27, 10, 0] the target: 21\n",
      "when input is [25, 17, 27, 10, 0, 21] the target: 1\n",
      "when input is [25, 17, 27, 10, 0, 21, 1] the target: 54\n",
      "when input is [25, 17, 27, 10, 0, 21, 1, 54] the target: 39\n"
     ]
    }
   ],
   "source": [
    "torch.manual_seed(1337)\n",
    "batch_size = 4 # how many independent sequences will we process in parallel?\n",
    "block_size = 8 # what is the maximum context length for predictions?\n",
    "\n",
    "def get_batch(split):\n",
    "    # generate a small batch of data of inputs x and targets y\n",
    "    data = train_data if split == 'train' else val_data\n",
    "    ix = torch.randint(len(data) - block_size, (batch_size,))\n",
    "    x = torch.stack([data[i:i+block_size] for i in ix])\n",
    "    y = torch.stack([data[i+1:i+block_size+1] for i in ix])\n",
    "    return x, y\n",
    "\n",
    "xb, yb = get_batch('train')\n",
    "print('inputs:')\n",
    "print(xb.shape)\n",
    "print(xb)\n",
    "print('targets:')\n",
    "print(yb.shape)\n",
    "print(yb)\n",
    "\n",
    "print('----')\n",
    "\n",
    "for b in range(batch_size): # batch dimension\n",
    "    for t in range(block_size): # time dimension\n",
    "        context = xb[b, :t+1]\n",
    "        target = yb[b,t]\n",
    "        print(f\"when input is {context.tolist()} the target: {target}\")"
   ]
  }
 ],
 "metadata": {
  "kernelspec": {
   "display_name": "Python 3",
   "language": "python",
   "name": "python3"
  },
  "language_info": {
   "codemirror_mode": {
    "name": "ipython",
    "version": 3
   },
   "file_extension": ".py",
   "mimetype": "text/x-python",
   "name": "python",
   "nbconvert_exporter": "python",
   "pygments_lexer": "ipython3",
   "version": "3.10.10"
  },
  "papermill": {
   "default_parameters": {},
   "duration": 21.59235,
   "end_time": "2023-05-20T00:49:39.274199",
   "environment_variables": {},
   "exception": null,
   "input_path": "__notebook__.ipynb",
   "output_path": "__notebook__.ipynb",
   "parameters": {},
   "start_time": "2023-05-20T00:49:17.681849",
   "version": "2.4.0"
  }
 },
 "nbformat": 4,
 "nbformat_minor": 5
}
